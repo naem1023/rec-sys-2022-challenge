{
 "cells": [
  {
   "cell_type": "code",
   "execution_count": null,
   "metadata": {},
   "outputs": [],
   "source": [
    "from transformers4rec import torch as tr\n",
    "\n",
    "schema: tr.Schema = tr.data.tabular_sequence_testing_data.schema\n",
    "# Or read schema from disk: tr.Schema().from_json(SCHEMA_PATH)\n",
    "max_sequence_length, d_model = 20, 64\n",
    "\n",
    "# Define input module to process tabular input-features\n",
    "input_module = tr.TabularSequenceFeatures.from_schema(\n",
    "    schema,\n",
    "    max_sequence_length=max_sequence_length,\n",
    "    continuous_projection=d_model,\n",
    "    aggregation=\"concat\",\n",
    "    masking=\"causal\",\n",
    ")\n",
    "# Define one or multiple prediction-tasks\n",
    "prediction_tasks = tr.NextItemPredictionTask()\n",
    "\n",
    "# Define a transformer-config, like the XLNet architecture\n",
    "transformer_config = tr.XLNetConfig.build(\n",
    "    d_model=d_model, n_head=4, n_layer=2, total_seq_length=max_sequence_length\n",
    ")\n",
    "model: tr.Model = transformer_config.to_torch_model(input_module, prediction_tasks)"
   ]
  }
 ],
 "metadata": {
  "interpreter": {
   "hash": "a131218803ea04de256dcf68d0863f351f9c21059ac7f8146793fa89223f504a"
  },
  "kernelspec": {
   "display_name": "Python 3.9.7 ('torch')",
   "language": "python",
   "name": "python3"
  },
  "language_info": {
   "name": "python",
   "version": "3.9.7"
  },
  "orig_nbformat": 4
 },
 "nbformat": 4,
 "nbformat_minor": 2
}
